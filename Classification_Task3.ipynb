{
  "nbformat": 4,
  "nbformat_minor": 0,
  "metadata": {
    "kernelspec": {
      "display_name": "Python 2",
      "language": "python",
      "name": "python2"
    },
    "language_info": {
      "codemirror_mode": {
        "name": "ipython",
        "version": 2
      },
      "file_extension": ".py",
      "mimetype": "text/x-python",
      "name": "python",
      "nbconvert_exporter": "python",
      "pygments_lexer": "ipython2",
      "version": "2.7.13"
    },
    "colab": {
      "name": "Classification_Task3.ipynb",
      "provenance": []
    }
  },
  "cells": [
    {
      "cell_type": "markdown",
      "metadata": {
        "id": "7C5rAxwPGDQf"
      },
      "source": [
        "#Importing useful libraries"
      ]
    },
    {
      "cell_type": "code",
      "metadata": {
        "collapsed": true,
        "id": "8qvrslgsF4Mn"
      },
      "source": [
        "import numpy as np\n",
        "import pandas as pd \n",
        "from pandas import Series, DataFrame\n",
        "\n",
        "import seaborn as sns\n",
        "import matplotlib.pyplot as plt\n",
        "%matplotlib inline"
      ],
      "execution_count": null,
      "outputs": []
    },
    {
      "cell_type": "markdown",
      "metadata": {
        "id": "6aYOLI2BHF6m"
      },
      "source": [
        "##Loading the dataset.\n",
        "The dataset can be found [here](https://github.com/shreedharmalpani/Intro-To-ML-Hello-FOSS/blob/main/iris.csv)"
      ]
    },
    {
      "cell_type": "code",
      "metadata": {
        "collapsed": true,
        "id": "_hccks2pF4Mq"
      },
      "source": [
        "#load csv"
      ],
      "execution_count": null,
      "outputs": []
    },
    {
      "cell_type": "code",
      "metadata": {
        "id": "um0L09IOF4Ms"
      },
      "source": [
        "df.head()"
      ],
      "execution_count": null,
      "outputs": []
    },
    {
      "cell_type": "code",
      "metadata": {
        "id": "cbx8gP4zF4Mt"
      },
      "source": [
        "df.info() "
      ],
      "execution_count": null,
      "outputs": []
    },
    {
      "cell_type": "markdown",
      "metadata": {
        "id": "vjH1pAqoJna2"
      },
      "source": [
        "#Data Cleaning & Data Visualization"
      ]
    },
    {
      "cell_type": "markdown",
      "metadata": {
        "id": "PNfSyZF1F4Mu"
      },
      "source": [
        "### 1) Remove unneeded columns\n",
        "### 2) Check for duplicate rows \n",
        "### 2) Check for rows with missing values\n"
      ]
    },
    {
      "cell_type": "code",
      "metadata": {
        "collapsed": true,
        "id": "HKFsVhubF4Mx"
      },
      "source": [
        "#code\n"
      ],
      "execution_count": null,
      "outputs": []
    },
    {
      "cell_type": "markdown",
      "metadata": {
        "id": "L1cnZS5XF4M2"
      },
      "source": [
        "### EDA (Exploratory Data Analysis) with Iris"
      ]
    },
    {
      "cell_type": "code",
      "metadata": {
        "id": "DjsnhAraF4M7",
        "outputId": "d8d58921-fa2f-4d75-c884-268986342894"
      },
      "source": [
        "##Displaying a scatter plot to show the distribution of Sepal Length vs width the dataset\n",
        "\n",
        "fig = df[df.Species == 'Iris-setosa'].plot(kind='scatter', x='PetalLengthCm', y='PetalWidthCm', color='orange', label='Setosa')\n",
        "df[df.Species == 'Iris-versicolor'].plot(kind='scatter', x='PetalLengthCm', y='PetalWidthCm', color='blue', label='Versicolor', ax=fig)\n",
        "df[df.Species == 'Iris-virginica'].plot(kind='scatter', x='PetalLengthCm', y='PetalWidthCm', color='green', label='Virginica', ax=fig)\n",
        "\n",
        "fig.set_xlabel('Petal Length')\n",
        "fig.set_ylabel('Petal Width')\n",
        "fig.set_title('Petal Length Vs Width')\n",
        "\n",
        "fig=plt.gcf()\n",
        "fig.set_size_inches(10, 7)\n",
        "plt.show()"
      ],
      "execution_count": null,
      "outputs": [
        {
          "data": {
            "image/png": "[encoded data removed]",
            "text/plain": [
              "<matplotlib.figure.Figure at 0xbd075c0>"
            ]
          },
          "metadata": {},
          "output_type": "display_data"
        }
      ]
    },
    {
      "cell_type": "code",
      "metadata": {
        "id": "O_eYByFvF4M5",
        "outputId": "b7404bc7-4879-482e-ca9d-8d9680a8f6a7"
      },
      "source": [
        "#Display a scatter plot to show the distribution of Sepal Length vs width the dataset (Like previous Petal lenght vs width scatter plot)\n",
        "\n",
        "\n",
        "#code\n",
        "\n",
        "fig.set_xlabel('Sepal Length')\n",
        "fig.set_ylabel('Sepal Width')\n",
        "fig.set_title('Sepal Length Vs Width')\n",
        "\n",
        "\n",
        "fig=plt.gcf()\n",
        "fig.set_size_inches(10, 7)\n",
        "plt.show()\n",
        "#example plot"
      ],
      "execution_count": null,
      "outputs": [
        {
          "data": {
            "image/png": "[encoded data removed]",
            "text/plain": [
              "<matplotlib.figure.Figure at 0x456db70>"
            ]
          },
          "metadata": {},
          "output_type": "display_data"
        }
      ]
    },
    {
      "cell_type": "code",
      "metadata": {
        "id": "EIh_yKQAF4M6",
        "outputId": "91706df0-4dd1-4a8b-92e7-41e04e6e602d"
      },
      "source": [
        "#plot the FacetGrid plot using the seaborn library\n",
        "\n",
        "#sns.FacetGrid(...)\\\n",
        "#   .map(...)\\\n",
        "#   .add_legend()\n"
      ],
      "execution_count": null,
      "outputs": [
        {
          "data": {
            "text/plain": [
              "<seaborn.axisgrid.FacetGrid at 0xbd07748>"
            ]
          },
          "execution_count": 12,
          "metadata": {},
          "output_type": "execute_result"
        },
        {
          "data": {
            "image/png": "[encoded data removed]",
            "text/plain": [
              "<matplotlib.figure.Figure at 0xbd07780>"
            ]
          },
          "metadata": {},
          "output_type": "display_data"
        }
      ]
    },
    {
      "cell_type": "code",
      "metadata": {
        "id": "yadZQxoKF4M8",
        "outputId": "639d4b96-87a7-45d0-f358-ef061d08d230"
      },
      "source": [
        "#Plot the distritbution of the features using histgram\n",
        "fig = plt.gcf()\n",
        "fig.set_size_inches(12,6)\n",
        "plt.show()"
      ],
      "execution_count": null,
      "outputs": [
        {
          "data": {
            "image/png": "[encoded data removed]",
            "text/plain": [
              "<matplotlib.figure.Figure at 0xc6bad30>"
            ]
          },
          "metadata": {},
          "output_type": "display_data"
        }
      ]
    },
    {
      "cell_type": "markdown",
      "metadata": {
        "id": "xb-AFaG3PU0D"
      },
      "source": [
        "## Importing alll the necessary packages to use the various classification algorithms\n"
      ]
    },
    {
      "cell_type": "code",
      "metadata": {
        "id": "cJVjbgAjF4M_"
      },
      "source": [
        "from sklearn.linear_model import LogisticRegression # for Logistic Regression Algorithm\n",
        "from sklearn.cross_validation import train_test_split # to split the dataset for training and testing \n",
        "from sklearn import svm # for suport vector machine algorithm\n",
        "from sklearn import metrics # for checking the model accuracy\n",
        "from sklearn.tree import DecisionTreeClassifier # for using DTA"
      ],
      "execution_count": null,
      "outputs": []
    },
    {
      "cell_type": "code",
      "metadata": {
        "id": "8LizCSuWF4NA"
      },
      "source": [
        "df.shape"
      ],
      "execution_count": null,
      "outputs": []
    },
    {
      "cell_type": "markdown",
      "metadata": {
        "id": "WW5Hp1fFF4NC"
      },
      "source": [
        "Now, when we train any algorithm, the number of features and their correlation plays an important role. If there are features and many of the features are highly correlated, then training an algorithm with all the featues will reduce the accuracy. Thus features selection should be done carefully. This dataset has less featues but still we will see the correlation.\n"
      ]
    },
    {
      "cell_type": "code",
      "metadata": {
        "id": "YABeXMklF4ND",
        "outputId": "a212e140-712f-4e6f-f8f4-b6664bf29ff1"
      },
      "source": [
        "plt.figure(figsize=(8,4))\n",
        "sns.heatmap(df.corr(), annot=True, cmap='cubehelix_r') # draws heatmap with input as correlation matrix calculated by df.corr() \n",
        "plt.show()"
      ],
      "execution_count": null,
      "outputs": [
        {
          "data": {
            "image/png": "[encoded data removed]",
            "text/plain": [
              "<matplotlib.figure.Figure at 0xb86a0f0>"
            ]
          },
          "metadata": {},
          "output_type": "display_data"
        }
      ]
    },
    {
      "cell_type": "markdown",
      "metadata": {
        "id": "gsd6QaoaF4NE"
      },
      "source": [
        "Observation--->\n",
        "The Sepal Width and Length are not correlated The Petal Width and Length are highly correlated\n",
        "We will use all the features for training the algorithm and check the accuracy.\n",
        "\n",
        "Then we will use 1 Petal Feature and 1 Sepal Feature to check the accuracy of the algorithm as we are using only 2 features that are not correlated. Thus we can have a variance in the dataset which may help in better accuracy. We will check it later.\n",
        "\n",
        "Steps To Be followed When Applying an Algorithm\n",
        "\n",
        "Split the dataset into training and testing dataset. The testing dataset is generally smaller than training one as it will help in training the model better.\n",
        "\n",
        "Select any algorithm based on the problem (classification or regression) whatever you feel may be good.\n",
        "Then pass the training dataset to the algorithm to train it. We use the .fit() method\n",
        "Then pass the testing data to the trained algorithm to predict the outcome. We use the .predict() method.\n",
        "We then check the accuracy by passing the predicted outcome and the actual output to the model."
      ]
    },
    {
      "cell_type": "markdown",
      "metadata": {
        "id": "QAD_cNirF4NF"
      },
      "source": [
        "# Splitting The Data into Training And Testing Dataset"
      ]
    },
    {
      "cell_type": "code",
      "metadata": {
        "id": "ZqSRd9GzF4NF",
        "outputId": "9504d228-e1ff-4c00-a125-63dd9e0f7d67"
      },
      "source": [
        "train, test = train_test_split(df, test_size=0.3) # our main data split into train and test\n",
        "# the attribute test_size=0.3 splits the data into 70% and 30% ratio. train=70% and test=30%\n",
        "print(train.shape)\n",
        "print(test.shape)"
      ],
      "execution_count": null,
      "outputs": [
        {
          "name": "stdout",
          "output_type": "stream",
          "text": [
            "(105, 5)\n",
            "(45, 5)\n"
          ]
        }
      ]
    },
    {
      "cell_type": "code",
      "metadata": {
        "id": "yO2J2FpjF4NG"
      },
      "source": [
        "train_X = train[['SepalLengthCm','SepalWidthCm','PetalLengthCm','PetalWidthCm']] # taking the training data features\n",
        "train_y = train.Species # output of the training data\n",
        "\n",
        "test_X = test[['SepalLengthCm','SepalWidthCm','PetalLengthCm','PetalWidthCm']] # taking test data feature\n",
        "test_y = test.Species # output value of the test data"
      ],
      "execution_count": null,
      "outputs": []
    },
    {
      "cell_type": "code",
      "metadata": {
        "id": "yR9D2qgQF4NG"
      },
      "source": [
        "train_X.head()"
      ],
      "execution_count": null,
      "outputs": []
    },
    {
      "cell_type": "code",
      "metadata": {
        "id": "KcGbNGkcF4NH"
      },
      "source": [
        "test_X.head()"
      ],
      "execution_count": null,
      "outputs": []
    },
    {
      "cell_type": "code",
      "metadata": {
        "id": "5sFmts-IF4NI"
      },
      "source": [
        "train_y.head()"
      ],
      "execution_count": null,
      "outputs": []
    },
    {
      "cell_type": "markdown",
      "metadata": {
        "id": "S_w4Me2bF4NL"
      },
      "source": [
        "## Logistic Regression "
      ]
    },
    {
      "cell_type": "code",
      "metadata": {
        "id": "gOQ5JrqrF4NL"
      },
      "source": [
        "model = LogisticRegression()\n",
        "model.fit(train_X, train_y)\n",
        "prediction = model.predict(test_X)\n",
        "print('The accuracy of Logistic Regression is: ', metrics.accuracy_score(prediction, test_y))"
      ],
      "execution_count": null,
      "outputs": []
    },
    {
      "cell_type": "markdown",
      "metadata": {
        "id": "e1NNX-EGF4NJ"
      },
      "source": [
        "## Support Vector Machine SVM"
      ]
    },
    {
      "cell_type": "code",
      "metadata": {
        "id": "zSJmVzqnF4NK"
      },
      "source": [
        "#implement using Support Vector Machine (SVM)\n",
        "#code\n",
        "\n",
        "print('The accuracy of Support Vector Machine is: ', metrics.accuracy_score(prediction, test_y))"
      ],
      "execution_count": null,
      "outputs": []
    },
    {
      "cell_type": "markdown",
      "metadata": {
        "id": "GWfemKzPF4NN"
      },
      "source": [
        "## Decision Tree"
      ]
    },
    {
      "cell_type": "code",
      "metadata": {
        "id": "iRXy3EZIF4NN",
        "outputId": "f470e075-fc92-4f3f-c343-7a8257e2c5d2"
      },
      "source": [
        "#implementing using Decision Tree\n",
        "#code\n",
        "\n",
        "print('The accuracy of Decision Tree is: ', metrics.accuracy_score(prediction, test_y))"
      ],
      "execution_count": null,
      "outputs": [
        {
          "name": "stdout",
          "output_type": "stream",
          "text": [
            "('The accuracy of Decision Tree is: ', 0.93333333333333335)\n"
          ]
        }
      ]
    },
    {
      "cell_type": "markdown",
      "metadata": {
        "id": "uB2Co6f_F4NQ"
      },
      "source": [
        "### We used all the features of iris in above models. Now we will use Petals and Sepals Seperately"
      ]
    },
    {
      "cell_type": "markdown",
      "metadata": {
        "id": "1_v6cAZMF4NQ"
      },
      "source": [
        "### Creating Petals And Sepals Training Data"
      ]
    },
    {
      "cell_type": "code",
      "metadata": {
        "collapsed": true,
        "id": "e1Q-1b9YF4NQ"
      },
      "source": [
        "petal = df[['PetalLengthCm','PetalWidthCm','Species']]\n",
        "sepal = df[['SepalLengthCm','SepalWidthCm','Species']]"
      ],
      "execution_count": null,
      "outputs": []
    },
    {
      "cell_type": "markdown",
      "metadata": {
        "id": "Lv-nab5oF4NQ"
      },
      "source": [
        "### For Iris Petal"
      ]
    },
    {
      "cell_type": "code",
      "metadata": {
        "collapsed": true,
        "id": "DuOqLUWZF4NQ"
      },
      "source": [
        "train_p,test_p = train_test_split(petal, test_size=0.3, random_state=0) #petals\n",
        "train_x_p = train_p[['PetalWidthCm','PetalLengthCm']]  # taking the training data's Petal features\n",
        "train_y_p = train_p.Species  # output of the  training data\n",
        "\n",
        "test_x_p = test_p[['PetalWidthCm','PetalLengthCm']]   # taking the test data's Petal features\n",
        "test_y_p = test_p.Species    # output of the test data"
      ],
      "execution_count": null,
      "outputs": []
    },
    {
      "cell_type": "markdown",
      "metadata": {
        "id": "bgNB8kaNF4NU"
      },
      "source": [
        "### For Iris Sepal"
      ]
    },
    {
      "cell_type": "code",
      "metadata": {
        "id": "6hVj5MW3F4NU"
      },
      "source": [
        "#Similarly define the split for sepals\n",
        "#define the training and test data's Sepal features followed by the output of the training and test data\n",
        "\n",
        "#use naming- train_s,test_s ; train_x_s, train_y_s; test_x_s, test_y_s\n",
        "\n",
        "#code"
      ],
      "execution_count": null,
      "outputs": []
    },
    {
      "cell_type": "markdown",
      "metadata": {
        "id": "y08e1O6aU9mx"
      },
      "source": [
        "Implementing the algorithms just like we did on the complete dataset but separately on sepals and petals and calculating accuracy"
      ]
    },
    {
      "cell_type": "markdown",
      "metadata": {
        "id": "TeMWnQr6F4NV"
      },
      "source": [
        "## SVM Algorithm"
      ]
    },
    {
      "cell_type": "code",
      "metadata": {
        "id": "jhlutJ78F4NV"
      },
      "source": [
        "#code\n",
        "print('The accuracy of the SVM using Petals is:',metrics.accuracy_score(prediction,test_y_p))\n",
        "\n",
        "#code\n",
        "print('The accuracy of the SVM using Sepals is:',metrics.accuracy_score(prediction,test_y_s))"
      ],
      "execution_count": null,
      "outputs": []
    },
    {
      "cell_type": "markdown",
      "metadata": {
        "id": "Mli7zcq_F4NV"
      },
      "source": [
        "## Logistic Regression"
      ]
    },
    {
      "cell_type": "code",
      "metadata": {
        "id": "2DqK_dFCF4NV"
      },
      "source": [
        "#code\n",
        "print('The accuracy of the Logistic Regression using Petals is:',metrics.accuracy_score(prediction,test_y_p))\n",
        "\n",
        "#code \n",
        "print('The accuracy of the Logistic Regression using Sepals is:',metrics.accuracy_score(prediction,test_y_s))"
      ],
      "execution_count": null,
      "outputs": []
    },
    {
      "cell_type": "markdown",
      "metadata": {
        "id": "aM-7Zx95F4NW"
      },
      "source": [
        "## Decision Tree"
      ]
    },
    {
      "cell_type": "code",
      "metadata": {
        "id": "S8tXp-gMF4NW"
      },
      "source": [
        "#code\n",
        "print('The accuracy of the Decision Tree using Petals is:',metrics.accuracy_score(prediction,test_y_p))\n",
        "\n",
        "#code\n",
        "print('The accuracy of the Decision Tree using Sepals is:',metrics.accuracy_score(prediction,test_y_s))"
      ],
      "execution_count": null,
      "outputs": []
    },
    {
      "cell_type": "markdown",
      "metadata": {
        "id": "6ec0NUyJF4NW"
      },
      "source": [
        "\n",
        "\n",
        "\n",
        "### Question:\n",
        "Does Using Petals over Sepals for training the data give a much better accuracy? Why?\n"
      ]
    }
  ]
}